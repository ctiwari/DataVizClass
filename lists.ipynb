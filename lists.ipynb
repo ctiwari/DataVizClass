{
 "cells": [
  {
   "cell_type": "code",
   "execution_count": 12,
   "metadata": {},
   "outputs": [
    {
     "name": "stdout",
     "output_type": "stream",
     "text": [
      "1\n",
      "2\n",
      "3\n",
      "4\n",
      "5\n",
      "c\n",
      "d\n",
      "e\n"
     ]
    }
   ],
   "source": [
    "# LISTS\n",
    "# How to create a list\n",
    "myList = [1,2,3,4,5,\"c\",\"d\",\"e\"]\n",
    "myList2 = [\"a\",\"b\",\"c\",\"d\",\"e\"]\n",
    "myList3 = [1,2,3,4,5,\"a\",\"b\",\"c\",\"d\",\"e\"]\n",
    "myList4 = [1,2,3,4,5,\"a\",\"b\",\"c\",\"d\",\"e\", [1,2,3,4,5]]\n",
    "\n",
    "# How to access elements in a list\n",
    "# list index starts at 0\n",
    "#print(myList[0]) # [0] is index 0 in myList\n",
    "#print(myList2[2])\n",
    "#print(myList4[-1])\n",
    "#print(myList4[-1][0])\n",
    "#print(myList4[-1][3])\n",
    "\n",
    "# use loop to iterate through a list\n",
    "for i in range(len(myList)):\n",
    "    #print(i)\n",
    "    print(myList[i])\n",
    "\n",
    "\n"
   ]
  },
  {
   "cell_type": "code",
   "execution_count": 13,
   "metadata": {},
   "outputs": [
    {
     "name": "stdout",
     "output_type": "stream",
     "text": [
      "[1, 2, 3, 4]\n"
     ]
    }
   ],
   "source": [
    "mylist = [1,1,1,2,2,2,2,2,3,4]\n",
    "uniqueList = []\n",
    "for i in mylist:\n",
    "    if i not in uniqueList:\n",
    "        uniqueList.append(i)\n",
    "print(uniqueList)"
   ]
  }
 ],
 "metadata": {
  "kernelspec": {
   "display_name": ".venv",
   "language": "python",
   "name": "python3"
  },
  "language_info": {
   "codemirror_mode": {
    "name": "ipython",
    "version": 3
   },
   "file_extension": ".py",
   "mimetype": "text/x-python",
   "name": "python",
   "nbconvert_exporter": "python",
   "pygments_lexer": "ipython3",
   "version": "3.12.5"
  }
 },
 "nbformat": 4,
 "nbformat_minor": 2
}
