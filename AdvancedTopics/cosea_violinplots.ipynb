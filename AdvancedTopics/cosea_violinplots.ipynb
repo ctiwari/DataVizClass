{
 "cells": [
  {
   "cell_type": "code",
   "execution_count": 1,
   "metadata": {},
   "outputs": [
    {
     "name": "stderr",
     "output_type": "stream",
     "text": [
      "/home/ctiwari/Documents/CodeRepos/DataVizClass/.venv/lib/python3.12/site-packages/geopandas/io/sql.py:185: UserWarning: pandas only supports SQLAlchemy connectable (engine/connection) or database string URI or sqlite3 DBAPI2 connection. Other DBAPI2 objects are not tested. Please consider using SQLAlchemy.\n",
      "  df = pd.read_sql(\n",
      "/home/ctiwari/Documents/CodeRepos/DataVizClass/.venv/lib/python3.12/site-packages/geopandas/io/sql.py:473: UserWarning: pandas only supports SQLAlchemy connectable (engine/connection) or database string URI or sqlite3 DBAPI2 connection. Other DBAPI2 objects are not tested. Please consider using SQLAlchemy.\n",
      "  return pd.read_sql(spatial_ref_sys_sql, con)\n"
     ]
    }
   ],
   "source": [
    "import psycopg2\n",
    "import geopandas as gpd\n",
    "\n",
    "# Create connection to database\n",
    "conn = psycopg2.connect(\n",
    "    dbname=\"cosea_db\",  # Database name\n",
    "    user=\"cosea_user\",  # Database user\n",
    "    password=\"CoSeaIndex\",  # Database password\n",
    "    host=\"pgsql.dataconn.net\",  # Database host\n",
    "    port=\"5432\"  # Database port\n",
    ")\n",
    "\n",
    "# Select data from table into geopandas data frame\n",
    "query = \"SELECT cbgpolygeom as geom FROM \\\"2024\\\".tbl_cbg limit 100\"\n",
    "gdf = gpd.read_postgis(query, conn, geom_col='geom')"
   ]
  }
 ],
 "metadata": {
  "kernelspec": {
   "display_name": ".venv",
   "language": "python",
   "name": "python3"
  },
  "language_info": {
   "codemirror_mode": {
    "name": "ipython",
    "version": 3
   },
   "file_extension": ".py",
   "mimetype": "text/x-python",
   "name": "python",
   "nbconvert_exporter": "python",
   "pygments_lexer": "ipython3",
   "version": "3.12.7"
  }
 },
 "nbformat": 4,
 "nbformat_minor": 2
}
