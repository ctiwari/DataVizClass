{
 "cells": [
  {
   "cell_type": "code",
   "execution_count": 7,
   "metadata": {},
   "outputs": [
    {
     "name": "stdout",
     "output_type": "stream",
     "text": [
      "--- Start of loop ---\n",
      "The value of i is 0\n",
      "Hello, World!\n",
      "--- End of loop ---\n",
      "--- Start of loop ---\n",
      "The value of i is 1\n",
      "Hello, World!\n",
      "--- End of loop ---\n",
      "--- Start of loop ---\n",
      "The value of i is 2\n",
      "Hello, World!\n",
      "--- End of loop ---\n",
      "Outside loop\n"
     ]
    }
   ],
   "source": [
    "# for loop example\n",
    "for i in range(3):\n",
    "    print(\"--- Start of loop ---\")\n",
    "    print(\"The value of i is\", i)\n",
    "    print(\"Hello, World!\")\n",
    "    print(\"--- End of loop ---\")\n",
    "print(\"Outside loop\")"
   ]
  },
  {
   "cell_type": "code",
   "execution_count": 8,
   "metadata": {},
   "outputs": [
    {
     "name": "stdout",
     "output_type": "stream",
     "text": [
      "--- Start of loop ---\n",
      "The value of i is 0\n",
      "Hello, World!\n",
      "--- End of loop ---\n",
      "--- Start of loop ---\n",
      "The value of i is 1\n",
      "Hello, World!\n",
      "--- End of loop ---\n",
      "--- Start of loop ---\n",
      "The value of i is 2\n",
      "Hello, World!\n",
      "--- End of loop ---\n",
      "Outside loop\n"
     ]
    }
   ],
   "source": [
    "i = 0\n",
    "while i < 3:\n",
    "    print(\"--- Start of loop ---\")\n",
    "    print(\"The value of i is\", i)\n",
    "    print(\"Hello, World!\")\n",
    "    print(\"--- End of loop ---\")\n",
    "    i += 1 # i = i + 1\n",
    "print(\"Outside loop\")"
   ]
  },
  {
   "cell_type": "code",
   "execution_count": 9,
   "metadata": {},
   "outputs": [
    {
     "name": "stdout",
     "output_type": "stream",
     "text": [
      "Welcome to the system\n"
     ]
    }
   ],
   "source": [
    "password = \"\"\n",
    "while password != \"python123\":\n",
    "    password = input(\"Enter password: \")\n",
    "print(\"Welcome to the system\")"
   ]
  }
 ],
 "metadata": {
  "kernelspec": {
   "display_name": ".venv",
   "language": "python",
   "name": "python3"
  },
  "language_info": {
   "codemirror_mode": {
    "name": "ipython",
    "version": 3
   },
   "file_extension": ".py",
   "mimetype": "text/x-python",
   "name": "python",
   "nbconvert_exporter": "python",
   "pygments_lexer": "ipython3",
   "version": "3.12.5"
  }
 },
 "nbformat": 4,
 "nbformat_minor": 2
}
